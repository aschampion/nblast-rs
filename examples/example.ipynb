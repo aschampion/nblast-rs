{
 "cells": [
  {
   "cell_type": "code",
   "execution_count": 2,
   "metadata": {},
   "outputs": [],
   "source": [
    "from pynblast import NblastArena, Idx, ScoreMatrix\n",
    "from typing import Tuple, List, Dict\n",
    "from pathlib import Path\n",
    "import itertools\n",
    "\n",
    "import numpy as np\n",
    "import pandas as pd\n",
    "from scipy.cluster.hierarchy import dendrogram, linkage\n",
    "from scipy.spatial.distance import squareform\n",
    "\n",
    "from matplotlib import pyplot as plt\n",
    "import seaborn as sns"
   ]
  },
  {
   "cell_type": "code",
   "execution_count": 3,
   "metadata": {},
   "outputs": [],
   "source": [
    "DATA_DIR = Path().resolve().parent / \"data\"\n",
    "POINTS_DIR = DATA_DIR / \"points\""
   ]
  },
  {
   "cell_type": "code",
   "execution_count": 4,
   "metadata": {},
   "outputs": [
    {
     "name": "stdout",
     "output_type": "stream",
     "text": [
      "             0.1        0.2        0.3        0.4        0.5       0.6  \\\n",
      "0.75    9.500097   9.215083   9.211151   8.778460   9.164808  9.226703   \n",
      "1.50    8.447755   9.046068   8.667959   8.620981   8.776275  8.991697   \n",
      "2.00    7.814143   8.275576   8.186607   8.237314   8.155985  8.449821   \n",
      "2.50    7.516167   7.681555   7.825236   7.793659   7.886876  8.031765   \n",
      "3.00    6.978315   6.943078   7.079218   7.049651   7.213063  6.938749   \n",
      "3.50    6.337199   6.510450   6.357374   6.730668   6.641336  6.684943   \n",
      "4.00    5.734997   5.776564   5.874881   6.078469   6.024177  5.936485   \n",
      "5.00    5.115815   5.021649   5.156575   5.104265   5.140931  5.108691   \n",
      "6.00    4.233995   4.157948   4.207282   4.154590   4.126861  4.073368   \n",
      "7.00    3.340269   3.305132   3.295987   3.260452   3.292369  3.178867   \n",
      "8.00    2.495160   2.520984   2.523058   2.469504   2.482756  2.495894   \n",
      "9.00    1.802393   1.781095   1.706758   1.775359   1.752899  1.751467   \n",
      "10.00   1.232041   1.249022   1.150560   1.153606   1.105376  1.090956   \n",
      "12.00   0.401030   0.405860   0.364813   0.445293   0.340572  0.338199   \n",
      "14.00  -0.232687  -0.284913  -0.336661  -0.341205  -0.403613 -0.449623   \n",
      "16.00  -0.720642  -0.737188  -0.791599  -0.913296  -0.865875 -0.929915   \n",
      "20.00  -1.207754  -1.224291  -1.232821  -1.317779  -1.334585 -1.381696   \n",
      "25.00  -1.645905  -1.672685  -1.698076  -1.756183  -1.791363 -1.878540   \n",
      "30.00  -2.517777  -2.545349  -2.539723  -2.545763  -2.606813 -2.685946   \n",
      "40.00  -3.960090  -4.031388  -4.072118  -4.147351  -4.330030 -4.420053   \n",
      "500.00 -9.921038 -10.087630 -10.055435 -10.102682 -10.086824 -9.912202   \n",
      "\n",
      "              0.7       0.8        0.9        1.0  \n",
      "0.75     9.981771  9.987695  10.804770  11.389230  \n",
      "1.50     9.617999  9.493972   9.903896  10.555860  \n",
      "2.00     9.003033  8.779511   9.077598   9.727352  \n",
      "2.50     7.904194  7.891677   8.462179   9.356472  \n",
      "3.00     7.636968  7.400216   8.243724   8.805585  \n",
      "3.50     6.845211  6.965403   7.584210   8.309956  \n",
      "4.00     6.165189  6.300637   6.959852   7.873737  \n",
      "5.00     5.313504  5.329530   5.908951   6.513172  \n",
      "6.00     4.139709  4.300276   4.578051   5.164869  \n",
      "7.00     3.359776  3.354097   3.576372   3.975850  \n",
      "8.00     2.532480  2.478894   2.571409   3.033876  \n",
      "9.00     1.790827  1.714787   1.765916   2.111905  \n",
      "10.00    1.112113  1.073980   1.213295   1.362314  \n",
      "12.00    0.280083  0.257239   0.309759   0.460951  \n",
      "14.00   -0.410465 -0.494928  -0.486279  -0.343856  \n",
      "16.00   -0.938061 -0.949575  -0.949001  -0.892506  \n",
      "20.00   -1.399439 -1.355856  -1.366778  -1.314133  \n",
      "25.00   -1.874187 -1.919543  -1.939411  -1.937971  \n",
      "30.00   -2.663269 -2.701847  -2.781738  -2.912276  \n",
      "40.00   -4.507915 -4.794051  -4.833213  -5.085673  \n",
      "500.00 -10.079958 -9.951979 -10.053608 -10.128759  \n"
     ]
    }
   ],
   "source": [
    "smat = ScoreMatrix.read(DATA_DIR / \"smat_jefferis.csv\")\n",
    "print(smat.to_df())"
   ]
  },
  {
   "cell_type": "code",
   "execution_count": 5,
   "metadata": {},
   "outputs": [],
   "source": [
    "def read_points(fpath: Path):\n",
    "    return pd.read_csv(fpath, index_col=0, header=0).to_numpy()\n",
    "\n",
    "\n",
    "def read_all_points(dpath: Path, recursive=False):\n",
    "    glob = \"*.csv\"\n",
    "    if recursive:\n",
    "        glob = \"**/\" + glob\n",
    "    for fpath in dpath.glob(glob):\n",
    "        yield fpath.stem, read_points(fpath)\n",
    "    "
   ]
  },
  {
   "cell_type": "code",
   "execution_count": 6,
   "metadata": {},
   "outputs": [],
   "source": [
    "arena = NblastArena(*smat)\n",
    "\n",
    "name_to_idx = dict()\n",
    "for name, arr in read_all_points(DATA_DIR / \"points\"):\n",
    "    name_to_idx[name] = arena.add_points(arr)\n",
    "    "
   ]
  },
  {
   "cell_type": "code",
   "execution_count": 7,
   "metadata": {},
   "outputs": [],
   "source": [
    "def all_v_all_df(results, name_to_idx):\n",
    "    names = list(name_to_idx)\n",
    "    length = len(name_to_idx)\n",
    "    df = pd.DataFrame(index=names, columns=names)\n",
    "    df.index.rename(\"query\", inplace=True)\n",
    "    df.columns.rename(\"target\", inplace=True)\n",
    "    for (row, col), val in results.items():\n",
    "        df.iloc[row, col] = val\n",
    "    return df"
   ]
  },
  {
   "cell_type": "code",
   "execution_count": 8,
   "metadata": {},
   "outputs": [
    {
     "data": {
      "image/png": "[encoded data removed]",
      "text/plain": [
       "<Figure size 432x288 with 8 Axes>"
      ]
     },
     "metadata": {
      "needs_background": "light"
     },
     "output_type": "display_data"
    }
   ],
   "source": [
    "fig, ax_arr = plt.subplots(2, 2)\n",
    "ax_lst = list(ax_arr.flatten())\n",
    "\n",
    "all_results = dict()\n",
    "\n",
    "for ax, (normalise, symmetric) in zip(\n",
    "    ax_lst, itertools.product([False, True], repeat=2),\n",
    "):\n",
    "    df = all_v_all_df(arena.all_v_all(normalise, symmetric), name_to_idx)\n",
    "    all_results[(normalise, symmetric)] = df\n",
    "    sns.heatmap(df.to_numpy().astype(float), ax=ax)\n",
    "    ax.set_title(f\"normalise={normalise}\\nsymmetric={symmetric}\")\n",
    "\n",
    "fig.tight_layout()"
   ]
  },
  {
   "cell_type": "code",
   "execution_count": 15,
   "metadata": {},
   "outputs": [
    {
     "name": "stdout",
     "output_type": "stream",
     "text": [
      "0.8525 is <0\n"
     ]
    }
   ],
   "source": [
    "basic = all_results[(False, False)]\n",
    "print(f\"{np.sum(basic.to_numpy() < 0) / basic.size} is <0\")\n",
    "#print(all_results[(False, False)])"
   ]
  },
  {
   "cell_type": "code",
   "execution_count": 9,
   "metadata": {},
   "outputs": [],
   "source": [
    "dists = 1 - all_results[(True, True)]\n",
    "condensed = squareform(dists)\n",
    "linkage_arr = linkage(condensed)"
   ]
  },
  {
   "cell_type": "code",
   "execution_count": 10,
   "metadata": {},
   "outputs": [
    {
     "data": {
      "image/png": "[encoded data removed]",
      "text/plain": [
       "<Figure size 432x288 with 1 Axes>"
      ]
     },
     "metadata": {
      "needs_background": "light"
     },
     "output_type": "display_data"
    }
   ],
   "source": [
    "dn = dendrogram(linkage_arr)"
   ]
  }
 ],
 "metadata": {
  "kernelspec": {
   "display_name": "Python 3",
   "language": "python",
   "name": "python3"
  },
  "language_info": {
   "codemirror_mode": {
    "name": "ipython",
    "version": 3
   },
   "file_extension": ".py",
   "mimetype": "text/x-python",
   "name": "python",
   "nbconvert_exporter": "python",
   "pygments_lexer": "ipython3",
   "version": "3.8.2"
  }
 },
 "nbformat": 4,
 "nbformat_minor": 4
}
